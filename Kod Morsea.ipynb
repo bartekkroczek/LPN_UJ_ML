{
 "cells": [
  {
   "cell_type": "markdown",
   "metadata": {},
   "source": [
    "# Kody morse'a dla poszczególnych liter\n",
    "\n",
    "Ignoruje polskie znaki dla wygody (w python2 jest duży problem z unicode), zebrałem jednak dane również dla nich. "
   ]
  },
  {
   "cell_type": "code",
   "execution_count": 1,
   "metadata": {
    "collapsed": true
   },
   "outputs": [],
   "source": [
    "import prettytable"
   ]
  },
  {
   "cell_type": "code",
   "execution_count": 2,
   "metadata": {
    "collapsed": false
   },
   "outputs": [],
   "source": [
    "CODE = {'A': '.-',     'B': '-...',   'C': '-.-.', \n",
    "        'D': '-..',    'E': '.',      'F': '..-.',\n",
    "        'G': '--.',    'H': '....',   'I': '..',\n",
    "        'J': '.---',   'K': '-.-',    'L': '.-..',\n",
    "        'M': '--',     'N': '-.',     'O': '---',\n",
    "        'P': '.--.',   'Q': '--.-',   'R': '.-.',\n",
    "     \t'S': '...',    'T': '-',      'U': '..-',\n",
    "        'V': '...-',   'W': '.--',    'X': '-..-',\n",
    "        'Y': '-.--',   'Z': '--..',\n",
    "\n",
    "#         'Ą': '.-.-',    'Ć': '-.-..',  'Ę': '..-..',\n",
    "#         'Ł': '.-..-',   'Ń':'--.--',   'Ó': '---.',\n",
    "#         'Ś':'...-...',  'Ż':'--..-.',  'Ź':'--..-',\n",
    "        }"
   ]
  },
  {
   "cell_type": "markdown",
   "metadata": {},
   "source": [
    "# Czestotliwość występowania polskich znaków\n",
    "Na podstawie: http://leksykot.top.hell.pl/tech/czestotliwosc_znakow"
   ]
  },
  {
   "cell_type": "code",
   "execution_count": 3,
   "metadata": {
    "collapsed": false
   },
   "outputs": [],
   "source": [
    "from BeautifulSoup import BeautifulSoup, Comment\n",
    "import urllib2\n",
    "\n",
    "# pobieram html\n",
    "link = \"http://leksykot.top.hell.pl/tech/czestotliwosc_znakow\"\n",
    "page = urllib2.urlopen(link)\n",
    "# wyłuskuje tabele\n",
    "soup = BeautifulSoup(page)\n",
    "table = soup.find('table')\n",
    "\n",
    "P = dict()\n",
    "for row in table.findAll('tr'):\n",
    "    letters = row.findAll('td')\n",
    "    for i in range(0, (len(letters)/2) + 4, 2):\n",
    "        if letters[i].string == ',': continue # czy znak przecinka jest litera?\n",
    "        P[str(letters[i].string).upper()] = float(letters[i+1].string)"
   ]
  },
  {
   "cell_type": "markdown",
   "metadata": {},
   "source": [
    "# Wypisuje dane do obliczeń"
   ]
  },
  {
   "cell_type": "code",
   "execution_count": 4,
   "metadata": {
    "collapsed": false
   },
   "outputs": [
    {
     "name": "stdout",
     "output_type": "stream",
     "text": [
      "+------+--------+---------+----------+\n",
      "| ZNAK | SYMBOL | P(ZNAK) | DL ZNAKU |\n",
      "+------+--------+---------+----------+\n",
      "|  A   |   .-   |   8.91  |    2     |\n",
      "|  C   |  -.-.  |   3.96  |    4     |\n",
      "|  B   |  -...  |   1.47  |    4     |\n",
      "|  E   |   .    |   7.66  |    1     |\n",
      "|  D   |  -..   |   3.25  |    3     |\n",
      "|  G   |  --.   |   1.42  |    3     |\n",
      "|  F   |  ..-.  |   0.3   |    4     |\n",
      "|  I   |   ..   |   8.21  |    2     |\n",
      "|  H   |  ....  |   1.08  |    4     |\n",
      "|  K   |  -.-   |   3.51  |    3     |\n",
      "|  J   |  .---  |   2.28  |    4     |\n",
      "|  M   |   --   |   2.8   |    2     |\n",
      "|  L   |  .-..  |   2.1   |    4     |\n",
      "|  O   |  ---   |   7.75  |    3     |\n",
      "|  N   |   -.   |   5.52  |    2     |\n",
      "|  Q   |  --.-  |   0.14  |    4     |\n",
      "|  P   |  .--.  |   3.13  |    4     |\n",
      "|  S   |  ...   |   4.32  |    3     |\n",
      "|  R   |  .-.   |   4.69  |    3     |\n",
      "|  U   |  ..-   |   2.5   |    3     |\n",
      "|  T   |   -    |   3.98  |    1     |\n",
      "|  W   |  .--   |   4.65  |    3     |\n",
      "|  V   |  ...-  |   0.04  |    4     |\n",
      "|  Y   |  -.--  |   3.76  |    4     |\n",
      "|  X   |  -..-  |   0.02  |    4     |\n",
      "|  Z   |  --..  |   5.64  |    4     |\n",
      "+------+--------+---------+----------+\n"
     ]
    }
   ],
   "source": [
    "table = prettytable.PrettyTable(['ZNAK', 'SYMBOL', 'P(ZNAK)', 'DL ZNAKU'])\n",
    "for char, code in CODE.iteritems():\n",
    "    table.add_row([char, code, P[char], len(code)])\n",
    "print table"
   ]
  },
  {
   "cell_type": "markdown",
   "metadata": {},
   "source": [
    " # Średnia długość kodu\n",
    " \n",
    " ### Za wykładem:\n",
    " $L(l_1, \\dots, l_n) = E(length(\\phi)) := \\sum_i p_i l_i$\n",
    " \n",
    " Czyli suma po wszystkich znakach z długości znaku i prawdopodobieńśtwa jego wystąpienia"
   ]
  },
  {
   "cell_type": "code",
   "execution_count": 5,
   "metadata": {
    "collapsed": false
   },
   "outputs": [
    {
     "name": "stdout",
     "output_type": "stream",
     "text": [
      "Srednia dlugosc polskiego slowa a alfabecie Morsea wynosi: 2.5447\n"
     ]
    }
   ],
   "source": [
    "E = sum([P[char] * 0.01 * len(code) for char, code in CODE.iteritems()])\n",
    "print 'Srednia dlugosc polskiego slowa a alfabecie Morsea wynosi: {}'.format(E)"
   ]
  }
 ],
 "metadata": {
  "kernelspec": {
   "display_name": "Python 2",
   "language": "python",
   "name": "python2"
  },
  "language_info": {
   "codemirror_mode": {
    "name": "ipython",
    "version": 2
   },
   "file_extension": ".py",
   "mimetype": "text/x-python",
   "name": "python",
   "nbconvert_exporter": "python",
   "pygments_lexer": "ipython2",
   "version": "2.7.9"
  }
 },
 "nbformat": 4,
 "nbformat_minor": 0
}
